{
 "cells": [
  {
   "cell_type": "code",
   "execution_count": 125,
   "metadata": {},
   "outputs": [],
   "source": [
    "# %pylab inline\n",
    "import pandas as pd\n",
    "import numpy as np\n",
    "import matplotlib.pyplot as plt\n",
    "import scipy\n",
    "from sklearn.metrics import classification_report, confusion_matrix,accuracy_score\n",
    "from sklearn.neighbors import KNeighborsClassifier\n",
    "from sklearn import model_selection\n",
    "import copy\n",
    "import time\n",
    "# from dtaidistance import dtw"
   ]
  },
  {
   "cell_type": "markdown",
   "metadata": {},
   "source": [
    "# Load files"
   ]
  },
  {
   "cell_type": "code",
   "execution_count": 137,
   "metadata": {},
   "outputs": [],
   "source": [
    "file_test = 'ECG200_TEST'\n",
    "# file_test = 'X_test.txt'\n",
    "file_train = 'ECG200_TRAIN'\n",
    "\n",
    "# Read files\n",
    "with open(file_test) as f:\n",
    "    ts_test = f.read().splitlines()\n",
    "with open(file_train) as f:\n",
    "    ts_train = f.read().splitlines()\n",
    "\n",
    "\n",
    "# Train Data\n",
    "ts_train = [x.split() for x in ts_train]\n",
    "ts_train = [[float(s) for s in row] for row in ts_train] \n",
    "ts_train = np.array(ts_train) # convert to numpy array\n",
    "train_classes = ts_train[:,0]  # get the classes\n",
    "train_data = copy.deepcopy(ts_train)\n",
    "ts_train = np.delete(ts_train, np.s_[:1], axis=1) # remove the first column, which is the class\n",
    "\n",
    "# Test Data\n",
    "ts_test = [x.split() for x in ts_test]\n",
    "ts_test = [[float(s) for s in row] for row in ts_test]\n",
    "ts_test = np.array(ts_test) # convert to numpy array\n",
    "test_classes = ts_test[:,0] # get the classes\n",
    "test_data = copy.deepcopy(ts_test)\n",
    "ts_test = np.delete(ts_test, np.s_[:1], axis=1) # remove the first column, which is the class\n",
    "\n",
    "\n",
    "# ts_test = pd.Series(ts_test)\n",
    "# ts_train = pd.Series(ts_train)"
   ]
  },
  {
   "cell_type": "code",
   "execution_count": 138,
   "metadata": {},
   "outputs": [],
   "source": [
    "# x = \n",
    "# y = ts_train[5]\n",
    "# plt.plot(x)\n",
    "# plt.plot(y)\n",
    "# plt.show()"
   ]
  },
  {
   "cell_type": "code",
   "execution_count": null,
   "metadata": {},
   "outputs": [],
   "source": []
  },
  {
   "cell_type": "markdown",
   "metadata": {},
   "source": [
    "# Let's Warp!! \n",
    "# The DTW Implementation, from scratch."
   ]
  },
  {
   "cell_type": "code",
   "execution_count": 139,
   "metadata": {},
   "outputs": [],
   "source": [
    "def DTW(s1,s2,window_size,weight=(1,1,1)):\n",
    "##     s1 = np.insert(ts1,0,0)\n",
    "##     s2 = np.insert(ts2,0,0)\n",
    "\n",
    "    # Initilize variables\n",
    "    n,m = len(s1) ,len(s2)\n",
    "    w1,w2,w3 = weight[0],weight[1],weight[2]\n",
    "    matrix= np.ones((n,m)) * np.inf\n",
    "    matrix[0][0] = 0        \n",
    "    for i in range(1,n):\n",
    "        for j in range(max(1, i-window_size),min(m, i+window_size)):\n",
    "            cost = abs(s1[i]-s2[j])\n",
    "            matrix[i][j] = min(matrix[i-1][j] + w1*cost,\n",
    "                               matrix[i-1][j-1] + w2*cost,\n",
    "                               matrix[i][j-1] + w3*cost)\n",
    "    distance = matrix[n-1][m-1]\n",
    "    return distance,matrix"
   ]
  },
  {
   "cell_type": "markdown",
   "metadata": {},
   "source": [
    "# 1NN classification"
   ]
  },
  {
   "cell_type": "code",
   "execution_count": 169,
   "metadata": {},
   "outputs": [],
   "source": [
    "# def one_NN(train_data,classes,sample,window_size,weight=(1,1,1)):\n",
    "#     min_dist = np.inf\n",
    "#     label = -1\n",
    "#     window_size = int(len(sample)/2)\n",
    "#     for i in range(len(train_data)):\n",
    "#         dist,matrix = DTW(train_data[i],sample,window_size)\n",
    "#         if(dist<min_dist):\n",
    "#             min_dist = dist\n",
    "#             label = classes[i]\n",
    "#     return label"
   ]
  },
  {
   "cell_type": "markdown",
   "metadata": {},
   "source": [
    "# It is so slow!!  Let's do some Lower bounding\n",
    "# Lower bound of Keogh"
   ]
  },
  {
   "cell_type": "code",
   "execution_count": 141,
   "metadata": {},
   "outputs": [],
   "source": [
    "def get_UL(Q,r):\n",
    "    n = len(Q)\n",
    "    U = Q.copy()\n",
    "    L = Q.copy()\n",
    "    \n",
    "    # The first element is the 'class(label)'\n",
    "    # we will loop from r+1 to n-r-1\n",
    "    for i in range(r+1,n-r):\n",
    "        U[i] = np.max(Q[i-r:i+r])\n",
    "        L[i] = np.min(Q[i-r:i+r])\n",
    "\n",
    "    left_min = np.min(L[1:r+2])\n",
    "    left_max = np.max(U[1:r+2]) \n",
    "    right_min = np.min(L[n-r-1:])\n",
    "    right_max = np.max(U[n-r-1:]) \n",
    "\n",
    "    for i in range(0,r+1):    \n",
    "        U[i] = left_max\n",
    "        L[i] = left_min\n",
    "    for i in range(n-r,n):\n",
    "        U[i] = right_max\n",
    "        L[i] = right_min\n",
    "\n",
    "    ## Plotting the boundaries (optional)\n",
    "    # plt.plot(Q[1:],label = 'original')\n",
    "    # plt.plot(U,label = 'U')\n",
    "    # plt.plot(L,label = 'L')\n",
    "    # plt.legend()\n",
    "    # plt.show()\n",
    "    return U,L"
   ]
  },
  {
   "cell_type": "code",
   "execution_count": 142,
   "metadata": {},
   "outputs": [],
   "source": [
    "def lower_bound_distance(Q,C,r,U,L):\n",
    "    dist = 0.0\n",
    "    for i in range(len(C)):\n",
    "        if(Q[i] > U[i]):\n",
    "            dist += (Q[i]-U[i])**2\n",
    "        elif(Q[i] < L[i]):\n",
    "            dist += (Q[i]-L[i])**2\n",
    "    return dist"
   ]
  },
  {
   "cell_type": "markdown",
   "metadata": {},
   "source": [
    "# 1NN with LB !!!"
   ]
  },
  {
   "cell_type": "code",
   "execution_count": 168,
   "metadata": {},
   "outputs": [],
   "source": [
    "def one_NN_LB(train_data,train_classes,sample,window_size,weight):\n",
    "    min_dist = np.inf\n",
    "    label = -1\n",
    "    window_size = int(len(sample)/2)\n",
    "    U,L = get_UL(sample,window_size)\n",
    "    for i in range(len(train_data)):\n",
    "        LB_dist = lower_bound_distance(train_data[i],sample,window_size,U,L)\n",
    "#         print ('LB dist = '+str(LB_dist))\n",
    "        if(LB_dist < min_dist):\n",
    "            dist,matrix = DTW(train_data[i],sample,window_size)\n",
    "            if(dist<min_dist):\n",
    "                min_dist = dist\n",
    "                label = train_classes[i]\n",
    "    return label"
   ]
  },
  {
   "cell_type": "markdown",
   "metadata": {},
   "source": [
    "# Let's Predict!!"
   ]
  },
  {
   "cell_type": "code",
   "execution_count": 181,
   "metadata": {},
   "outputs": [],
   "source": [
    "def predict(test_data,train_data,train_classes,actual_classes,weight=(1,1,1)):\n",
    "    predicted_classes = np.zeros(actual_classes.shape)\n",
    "    for i in range(len(test_data)) :\n",
    "        sample = test_data[i]\n",
    "        window_size = int(len(sample)/2)\n",
    "        predicted_classes[i] = one_NN_LB(train_data,train_classes,sample,window_size,weight)\n",
    "    return predicted_classes"
   ]
  },
  {
   "cell_type": "code",
   "execution_count": 182,
   "metadata": {},
   "outputs": [],
   "source": [
    "# actual_classes = test_classes\n",
    "# predicted_classes = np.zeros(actual_classes.shape)\n",
    "# start_time = time.time()\n",
    "# weight = (1,1,1)\n",
    "# print(one_NN_LB(train_data,test_classes,test_data[6],weight))\n",
    "# print(time.time() - start_time)"
   ]
  },
  {
   "cell_type": "code",
   "execution_count": null,
   "metadata": {},
   "outputs": [],
   "source": [
    "predicted_classes = predict(test_data,train_data,train_classes,actual_classes,weight=(1,2,1))"
   ]
  },
  {
   "cell_type": "code",
   "execution_count": 164,
   "metadata": {},
   "outputs": [
    {
     "data": {
      "text/plain": [
       "array([ 1.,  1., -1.,  1., -1.,  1.,  1.,  1.,  1., -1.,  1.,  1., -1.,\n",
       "       -1., -1.,  1.,  1.,  1.,  1.,  1., -1.,  1.,  1.,  1.,  1.,  1.,\n",
       "       -1.,  1.,  1.,  1.,  1.,  1., -1., -1., -1., -1.,  1.,  1., -1.,\n",
       "       -1.,  1., -1.,  1.,  1.,  1.,  1.,  1.,  1.,  1.,  1.,  1., -1.,\n",
       "        1., -1.,  1.,  1.,  1., -1.,  1., -1.,  1.,  1.,  1., -1., -1.,\n",
       "       -1.,  1.,  1.,  1.,  1.,  1.,  1.,  1.,  1.,  1.,  1.,  1., -1.,\n",
       "        1.,  1.,  1., -1., -1.,  1., -1.,  1.,  1., -1.,  1.,  1.,  1.,\n",
       "        1., -1.,  1.,  1.,  1.,  1., -1., -1.,  1.])"
      ]
     },
     "execution_count": 164,
     "metadata": {},
     "output_type": "execute_result"
    }
   ],
   "source": [
    "predicted_classes"
   ]
  },
  {
   "cell_type": "code",
   "execution_count": 165,
   "metadata": {},
   "outputs": [
    {
     "data": {
      "text/plain": [
       "array([ 1.,  1.,  1.,  1., -1.,  1.,  1.,  1.,  1., -1., -1.,  1., -1.,\n",
       "       -1., -1.,  1.,  1.,  1., -1.,  1., -1.,  1.,  1.,  1.,  1.,  1.,\n",
       "       -1.,  1., -1.,  1.,  1.,  1., -1., -1.,  1.,  1.,  1.,  1., -1.,\n",
       "       -1.,  1.,  1., -1.,  1.,  1.,  1.,  1.,  1.,  1.,  1.,  1., -1.,\n",
       "       -1., -1., -1., -1.,  1., -1., -1., -1., -1.,  1.,  1., -1., -1.,\n",
       "       -1.,  1.,  1.,  1.,  1.,  1.,  1.,  1.,  1.,  1., -1.,  1.,  1.,\n",
       "        1.,  1.,  1., -1.,  1.,  1., -1., -1., -1., -1.,  1.,  1.,  1.,\n",
       "       -1.,  1.,  1.,  1.,  1.,  1., -1., -1.,  1.])"
      ]
     },
     "execution_count": 165,
     "metadata": {},
     "output_type": "execute_result"
    }
   ],
   "source": [
    "actual_classes"
   ]
  },
  {
   "cell_type": "code",
   "execution_count": 166,
   "metadata": {},
   "outputs": [
    {
     "data": {
      "text/plain": [
       "0.80000000000000004"
      ]
     },
     "execution_count": 166,
     "metadata": {},
     "output_type": "execute_result"
    }
   ],
   "source": [
    "# c = np.array([1,2,3,4,5])\n",
    "# d = np.array([1,6,3,8,9])\n",
    "# confusion_matrix(c,d)\n",
    "accuracy_score(predicted_classes,actual_classes)"
   ]
  },
  {
   "cell_type": "code",
   "execution_count": 167,
   "metadata": {},
   "outputs": [
    {
     "data": {
      "text/plain": [
       "array([[23,  7],\n",
       "       [13, 57]], dtype=int64)"
      ]
     },
     "execution_count": 167,
     "metadata": {},
     "output_type": "execute_result"
    }
   ],
   "source": [
    "confusion_matrix(predicted_classes,actual_classes)"
   ]
  },
  {
   "cell_type": "code",
   "execution_count": 156,
   "metadata": {},
   "outputs": [
    {
     "data": {
      "text/plain": [
       "100"
      ]
     },
     "execution_count": 156,
     "metadata": {},
     "output_type": "execute_result"
    }
   ],
   "source": [
    "len( )"
   ]
  },
  {
   "cell_type": "code",
   "execution_count": null,
   "metadata": {},
   "outputs": [],
   "source": []
  },
  {
   "cell_type": "code",
   "execution_count": 61,
   "metadata": {},
   "outputs": [],
   "source": [
    "# def _dtw_distance(self, ts_a, ts_b, d = lambda x,y: abs(x-y)):\n",
    "#         \"\"\"Returns the DTW similarity distance between two 2-D\n",
    "#         timeseries numpy arrays.\n",
    "\n",
    "#         Arguments\n",
    "#         ---------\n",
    "#         ts_a, ts_b : array of shape [n_samples, n_timepoints]\n",
    "#             Two arrays containing n_samples of timeseries data\n",
    "#             whose DTW distance between each sample of A and B\n",
    "#             will be compared\n",
    "        \n",
    "#         d : DistanceMetric object (default = abs(x-y))\n",
    "#             the distance measure used for A_i - B_j in the\n",
    "#             DTW dynamic programming function\n",
    "        \n",
    "#         Returns\n",
    "#         -------\n",
    "#         DTW distance between A and B\n",
    "#         \"\"\"\n",
    "\n",
    "#         # Create cost matrix via broadcasting with large int\n",
    "#         ts_a, ts_b = np.array(ts_a), np.array(ts_b)\n",
    "#         M, N = len(ts_a), len(ts_b)\n",
    "#         cost = sys.maxint * np.ones((M, N))\n",
    "\n",
    "#         # Initialize the first row and column\n",
    "#         cost[0, 0] = d(ts_a[0], ts_b[0])\n",
    "#         for i in xrange(1, M):\n",
    "#             cost[i, 0] = cost[i-1, 0] + d(ts_a[i], ts_b[0])\n",
    "\n",
    "#         for j in xrange(1, N):\n",
    "#             cost[0, j] = cost[0, j-1] + d(ts_a[0], ts_b[j])\n",
    "\n",
    "#         # Populate rest of cost matrix within window\n",
    "#         for i in xrange(1, M):\n",
    "#             for j in xrange(max(1, i - self.max_warping_window),\n",
    "#                             min(N, i + self.max_warping_window)):\n",
    "#                 choices = cost[i - 1, j - 1], cost[i, j-1], cost[i-1, j]\n",
    "#                 cost[i, j] = min(choices) + d(ts_a[i], ts_b[j])\n",
    "\n",
    "#         # Return DTW distance given window \n",
    "#         return cost[-1, -1]"
   ]
  },
  {
   "cell_type": "code",
   "execution_count": 62,
   "metadata": {},
   "outputs": [],
   "source": [
    "# def _dist_matrix(self, x, y):\n",
    "#         \"\"\"Computes the M x N distance matrix between the training\n",
    "#         dataset and testing dataset (y) using the DTW distance measure\n",
    "        \n",
    "#         Arguments\n",
    "#         ---------\n",
    "#         x : array of shape [n_samples, n_timepoints]\n",
    "        \n",
    "#         y : array of shape [n_samples, n_timepoints]\n",
    "        \n",
    "#         Returns\n",
    "#         -------\n",
    "#         Distance matrix between each item of x and y with\n",
    "#             shape [training_n_samples, testing_n_samples]\n",
    "#         \"\"\"\n",
    "        \n",
    "#         # Compute the distance matrix        \n",
    "#         dm_count = 0\n",
    "        \n",
    "#         # Compute condensed distance matrix (upper triangle) of pairwise dtw distances\n",
    "#         # when x and y are the same array\n",
    "#         if(np.array_equal(x, y)):\n",
    "#             x_s = shape(x)\n",
    "#             dm = np.zeros((x_s[0] * (x_s[0] - 1)) // 2, dtype=np.double)\n",
    "            \n",
    "#             p = ProgressBar(shape(dm)[0])\n",
    "            \n",
    "#             for i in xrange(0, x_s[0] - 1):\n",
    "#                 for j in xrange(i + 1, x_s[0]):\n",
    "#                     dm[dm_count] = self._dtw_distance(x[i, ::self.subsample_step],\n",
    "#                                                       y[j, ::self.subsample_step])\n",
    "                    \n",
    "#                     dm_count += 1\n",
    "#                     p.animate(dm_count)\n",
    "            \n",
    "#             # Convert to squareform\n",
    "#             dm = squareform(dm)\n",
    "#             return dm\n",
    "        \n",
    "#         # Compute full distance matrix of dtw distnces between x and y\n",
    "#         else:\n",
    "#             x_s = np.shape(x)\n",
    "#             y_s = np.shape(y)\n",
    "#             dm = np.zeros((x_s[0], y_s[0])) \n",
    "#             dm_size = x_s[0]*y_s[0]\n",
    "            \n",
    "#             p = ProgressBar(dm_size)\n",
    "        \n",
    "#             for i in xrange(0, x_s[0]):\n",
    "#                 for j in xrange(0, y_s[0]):\n",
    "#                     dm[i, j] = self._dtw_distance(x[i, ::self.subsample_step],\n",
    "#                                                   y[j, ::self.subsample_step])\n",
    "#                     # Update progress bar\n",
    "#                     dm_count += 1\n",
    "#                     p.animate(dm_count)\n",
    "        \n",
    "#             return dm"
   ]
  },
  {
   "cell_type": "code",
   "execution_count": 63,
   "metadata": {},
   "outputs": [],
   "source": [
    "# def predict(self, x):\n",
    "#         \"\"\"Predict the class labels or probability estimates for \n",
    "#         the provided data\n",
    "\n",
    "#         Arguments\n",
    "#         ---------\n",
    "#           x : array of shape [n_samples, n_timepoints]\n",
    "#               Array containing the testing data set to be classified\n",
    "          \n",
    "#         Returns\n",
    "#         -------\n",
    "#           2 arrays representing:\n",
    "#               (1) the predicted class labels \n",
    "#               (2) the knn label count probability\n",
    "#         \"\"\"\n",
    "        \n",
    "#         dm = self._dist_matrix(x, self.x)\n",
    "\n",
    "#         # Identify the k nearest neighbors\n",
    "#         knn_idx = dm.argsort()[:, :self.n_neighbors]\n",
    "\n",
    "#         # Identify k nearest labels\n",
    "#         knn_labels = self.l[knn_idx]\n",
    "        \n",
    "#         # Model Label\n",
    "#         mode_data = mode(knn_labels, axis=1)\n",
    "#         mode_label = mode_data[0]\n",
    "#         mode_proba = mode_data[1]/self.n_neighbors\n",
    "\n",
    "#         return mode_label.ravel(), mode_proba.ravel()"
   ]
  },
  {
   "cell_type": "code",
   "execution_count": 64,
   "metadata": {},
   "outputs": [],
   "source": [
    "# a = np.array([1,2,3])\n",
    "# b = np.array([2,3,4,5])"
   ]
  },
  {
   "cell_type": "code",
   "execution_count": 65,
   "metadata": {},
   "outputs": [],
   "source": [
    "# 0.13358939348611112\n",
    "# x"
   ]
  },
  {
   "cell_type": "code",
   "execution_count": null,
   "metadata": {},
   "outputs": [],
   "source": [
    " to "
   ]
  },
  {
   "cell_type": "code",
   "execution_count": null,
   "metadata": {},
   "outputs": [],
   "source": []
  },
  {
   "cell_type": "code",
   "execution_count": null,
   "metadata": {},
   "outputs": [],
   "source": []
  },
  {
   "cell_type": "code",
   "execution_count": null,
   "metadata": {},
   "outputs": [],
   "source": []
  },
  {
   "cell_type": "code",
   "execution_count": null,
   "metadata": {},
   "outputs": [],
   "source": []
  }
 ],
 "metadata": {
  "kernelspec": {
   "display_name": "Python 3",
   "language": "python",
   "name": "python3"
  },
  "language_info": {
   "codemirror_mode": {
    "name": "ipython",
    "version": 3
   },
   "file_extension": ".py",
   "mimetype": "text/x-python",
   "name": "python",
   "nbconvert_exporter": "python",
   "pygments_lexer": "ipython3",
   "version": "3.6.3"
  }
 },
 "nbformat": 4,
 "nbformat_minor": 2
}
